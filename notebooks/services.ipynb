{
 "cells": [
  {
   "cell_type": "code",
   "execution_count": 1,
   "metadata": {},
   "outputs": [],
   "source": [
    "import requests\n",
    "from bs4 import BeautifulSoup\n",
    "import pandas as pd"
   ]
  },
  {
   "cell_type": "code",
   "execution_count": 5,
   "metadata": {},
   "outputs": [],
   "source": [
    "datasets = pd.read_csv('exports/pdokWebsiteDatasets.csv')"
   ]
  },
  {
   "cell_type": "code",
   "execution_count": 6,
   "metadata": {},
   "outputs": [],
   "source": [
    "# init dict\n",
    "serviceValues = []\n",
    "\n",
    "# loop over datasets\n",
    "for datasetTitelID in datasets.titel.tolist():\n",
    "    serviceURL = datasets.loc[ datasets['titel'] == datasetTitelID ]['link'].item() # get link\n",
    "    serviceURL = serviceURL.replace(\"introductie\", \"geo-services\") # go to services tab\n",
    "    \n",
    "    #soup\n",
    "    response = requests.get(serviceURL)\n",
    "    soup = BeautifulSoup(response.content, 'html.parser')\n",
    "    t = soup.findAll('table') # all tables\n",
    "\n",
    "\n",
    "    # loop over tables\n",
    "    for table in t:\n",
    "\n",
    "        rows = table.findAll('tr')\n",
    "\n",
    "        # loop over the 4 rows per table\n",
    "        values = {} # init list for values\n",
    "\n",
    "        for i in rows:\n",
    "            if i.td.a != None: # in case the value is a link, grab the href\n",
    "                values.update( {i.th.text.strip() : i.td.a['href']} )\n",
    "                continue\n",
    "            values.update( {i.th.text.strip() : i.td.text.strip()} )\n",
    "            values.update({\"Dataset Titel\": datasetTitelID})\n",
    "\n",
    "        # store the table values as a dict with id titel\n",
    "        serviceValues.append(values)"
   ]
  },
  {
   "cell_type": "code",
   "execution_count": 9,
   "metadata": {},
   "outputs": [],
   "source": [
    "serviceDF = pd.DataFrame.from_dict(serviceValues)\n",
    "serviceDF.to_csv('exports/pdokWebsiteServices.csv', header=True, index=False)"
   ]
  }
 ],
 "metadata": {
  "kernelspec": {
   "display_name": "notebook_gh-actions",
   "language": "python",
   "name": "python3"
  },
  "language_info": {
   "codemirror_mode": {
    "name": "ipython",
    "version": 3
   },
   "file_extension": ".py",
   "mimetype": "text/x-python",
   "name": "python",
   "nbconvert_exporter": "python",
   "pygments_lexer": "ipython3",
   "version": "3.10.9"
  },
  "orig_nbformat": 4,
  "vscode": {
   "interpreter": {
    "hash": "8a9cd654de5829acf2a754fb243ed48f8cdb0b550c86c4b6e95e35b40689e5d3"
   }
  }
 },
 "nbformat": 4,
 "nbformat_minor": 2
}
