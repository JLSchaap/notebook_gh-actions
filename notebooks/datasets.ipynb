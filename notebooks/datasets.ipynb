{
 "cells": [
  {
   "cell_type": "markdown",
   "metadata": {},
   "source": [
    "This function creates the requirements.txt for a conda environment. (install pip within your conda env)"
   ]
  },
  {
   "cell_type": "code",
   "execution_count": null,
   "metadata": {},
   "outputs": [],
   "source": [
    "# conda env export > environment.yml"
   ]
  },
  {
   "cell_type": "markdown",
   "metadata": {},
   "source": [
    "Brief script that scrapes a website, structures the data in a DF and exports this DF to a csv file."
   ]
  },
  {
   "cell_type": "code",
   "execution_count": 3,
   "metadata": {},
   "outputs": [],
   "source": [
    "import requests\n",
    "from bs4 import BeautifulSoup\n",
    "import pandas as pd\n",
    "\n",
    "# Scrape\n",
    "url_datasets = \"https://www.pdok.nl/datasets\"\n",
    "\n",
    "response = requests.get(url_datasets)\n",
    "soup = BeautifulSoup(response.content, 'html.parser')\n",
    "datasetListUnstructured = soup.find_all(\"article\")"
   ]
  },
  {
   "cell_type": "code",
   "execution_count": 4,
   "metadata": {},
   "outputs": [],
   "source": [
    "# Schrijf de gevonden datasets op een gestructureerde manier weg\n",
    "\n",
    "# loop over de gevonden data\n",
    "titel_list = []\n",
    "categorie_list = []\n",
    "link_list = []\n",
    "\n",
    "for i in datasetListUnstructured:\n",
    "    titel_list.append(i.a.text)\n",
    "    categorie_list.append(i.p.text)\n",
    "    link_list.append(i.a['href'])   \n",
    "    \n",
    "datasets = pd.DataFrame({\n",
    "    \"titel\": titel_list,\n",
    "    \"categorie\": categorie_list,\n",
    "    \"link\": link_list\n",
    "})"
   ]
  },
  {
   "cell_type": "code",
   "execution_count": 5,
   "metadata": {},
   "outputs": [],
   "source": [
    "datasets.to_csv('exports/pdokWebsiteDatasets.csv', header=True, index=False)"
   ]
  }
 ],
 "metadata": {
  "kernelspec": {
   "display_name": "notebook_gh-actions",
   "language": "python",
   "name": "python3"
  },
  "language_info": {
   "codemirror_mode": {
    "name": "ipython",
    "version": 3
   },
   "file_extension": ".py",
   "mimetype": "text/x-python",
   "name": "python",
   "nbconvert_exporter": "python",
   "pygments_lexer": "ipython3",
   "version": "3.10.9"
  },
  "vscode": {
   "interpreter": {
    "hash": "8a9cd654de5829acf2a754fb243ed48f8cdb0b550c86c4b6e95e35b40689e5d3"
   }
  }
 },
 "nbformat": 4,
 "nbformat_minor": 2
}
